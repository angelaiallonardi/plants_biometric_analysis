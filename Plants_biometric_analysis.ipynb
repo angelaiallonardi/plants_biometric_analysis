{
 "cells": [
  {
   "cell_type": "markdown",
   "metadata": {},
   "source": [
    "## Intro\n",
    "\n",
    "In the present study we are analyzing biometric data related to an endemic species of central-southern Italy. \n",
    "Here I'm reproducing a small part of a bigger analysis using Python and pandas, aiming for a \"data science\" view of the problem.\n",
    "\n",
    "The original analysis is currently being used to write an academic paper, and hence in this notebook I'm presenting data on an anonomysed basis.\n",
    "\n",
    "**How we collected data**\n",
    "\n",
    "For each selected diagnostic character of the species, we took measurements on 3 ramets belonging to the same sample. Each of the 18 populations is made up of 5 samples, for a total of 270 ramets.\n",
    "\n",
    "- 3 ramets = 1 sample\n",
    "- 5 samples = 1 popultion\n",
    "- 18 population = our dataset"
   ]
  },
  {
   "cell_type": "code",
   "execution_count": 12,
   "metadata": {},
   "outputs": [],
   "source": [
    "import pandas as pd\n",
    "import matplotlib.pyplot as plt\n",
    "%matplotlib inline"
   ]
  },
  {
   "cell_type": "markdown",
   "metadata": {},
   "source": [
    "This is the data for one popultion"
   ]
  },
  {
   "cell_type": "code",
   "execution_count": 207,
   "metadata": {},
   "outputs": [
    {
     "data": {
      "text/html": [
       "<div>\n",
       "<style scoped>\n",
       "    .dataframe tbody tr th:only-of-type {\n",
       "        vertical-align: middle;\n",
       "    }\n",
       "\n",
       "    .dataframe tbody tr th {\n",
       "        vertical-align: top;\n",
       "    }\n",
       "\n",
       "    .dataframe thead th {\n",
       "        text-align: right;\n",
       "    }\n",
       "</style>\n",
       "<table border=\"1\" class=\"dataframe\">\n",
       "  <thead>\n",
       "    <tr style=\"text-align: right;\">\n",
       "      <th></th>\n",
       "      <th>Populations</th>\n",
       "      <th>Samples</th>\n",
       "      <th>Ramets</th>\n",
       "      <th>character_1</th>\n",
       "      <th>character_2</th>\n",
       "      <th>character_3</th>\n",
       "    </tr>\n",
       "  </thead>\n",
       "  <tbody>\n",
       "    <tr>\n",
       "      <th>0</th>\n",
       "      <td>S01</td>\n",
       "      <td>A</td>\n",
       "      <td>1</td>\n",
       "      <td>306</td>\n",
       "      <td>21.5</td>\n",
       "      <td>0.2</td>\n",
       "    </tr>\n",
       "    <tr>\n",
       "      <th>1</th>\n",
       "      <td>S01</td>\n",
       "      <td>A</td>\n",
       "      <td>2</td>\n",
       "      <td>305</td>\n",
       "      <td>21.5</td>\n",
       "      <td>0.1</td>\n",
       "    </tr>\n",
       "    <tr>\n",
       "      <th>2</th>\n",
       "      <td>S01</td>\n",
       "      <td>A</td>\n",
       "      <td>3</td>\n",
       "      <td>285</td>\n",
       "      <td>21.0</td>\n",
       "      <td>0.1</td>\n",
       "    </tr>\n",
       "    <tr>\n",
       "      <th>3</th>\n",
       "      <td>S01</td>\n",
       "      <td>B</td>\n",
       "      <td>1</td>\n",
       "      <td>310</td>\n",
       "      <td>19.0</td>\n",
       "      <td>0.6</td>\n",
       "    </tr>\n",
       "    <tr>\n",
       "      <th>4</th>\n",
       "      <td>S01</td>\n",
       "      <td>B</td>\n",
       "      <td>2</td>\n",
       "      <td>355</td>\n",
       "      <td>20.0</td>\n",
       "      <td>0.4</td>\n",
       "    </tr>\n",
       "    <tr>\n",
       "      <th>5</th>\n",
       "      <td>S01</td>\n",
       "      <td>B</td>\n",
       "      <td>3</td>\n",
       "      <td>340</td>\n",
       "      <td>20.0</td>\n",
       "      <td>0.3</td>\n",
       "    </tr>\n",
       "    <tr>\n",
       "      <th>6</th>\n",
       "      <td>S01</td>\n",
       "      <td>C</td>\n",
       "      <td>1</td>\n",
       "      <td>320</td>\n",
       "      <td>20.0</td>\n",
       "      <td>0.8</td>\n",
       "    </tr>\n",
       "    <tr>\n",
       "      <th>7</th>\n",
       "      <td>S01</td>\n",
       "      <td>C</td>\n",
       "      <td>2</td>\n",
       "      <td>304</td>\n",
       "      <td>19.8</td>\n",
       "      <td>0.8</td>\n",
       "    </tr>\n",
       "    <tr>\n",
       "      <th>8</th>\n",
       "      <td>S01</td>\n",
       "      <td>C</td>\n",
       "      <td>3</td>\n",
       "      <td>255</td>\n",
       "      <td>19.5</td>\n",
       "      <td>0.7</td>\n",
       "    </tr>\n",
       "    <tr>\n",
       "      <th>9</th>\n",
       "      <td>S01</td>\n",
       "      <td>D</td>\n",
       "      <td>1</td>\n",
       "      <td>267</td>\n",
       "      <td>19.0</td>\n",
       "      <td>0.2</td>\n",
       "    </tr>\n",
       "    <tr>\n",
       "      <th>10</th>\n",
       "      <td>S01</td>\n",
       "      <td>D</td>\n",
       "      <td>2</td>\n",
       "      <td>246</td>\n",
       "      <td>18.5</td>\n",
       "      <td>0.2</td>\n",
       "    </tr>\n",
       "    <tr>\n",
       "      <th>11</th>\n",
       "      <td>S01</td>\n",
       "      <td>D</td>\n",
       "      <td>3</td>\n",
       "      <td>276</td>\n",
       "      <td>19.0</td>\n",
       "      <td>0.5</td>\n",
       "    </tr>\n",
       "    <tr>\n",
       "      <th>12</th>\n",
       "      <td>S01</td>\n",
       "      <td>E</td>\n",
       "      <td>1</td>\n",
       "      <td>300</td>\n",
       "      <td>20.0</td>\n",
       "      <td>0.1</td>\n",
       "    </tr>\n",
       "    <tr>\n",
       "      <th>13</th>\n",
       "      <td>S01</td>\n",
       "      <td>E</td>\n",
       "      <td>2</td>\n",
       "      <td>340</td>\n",
       "      <td>19.8</td>\n",
       "      <td>0.1</td>\n",
       "    </tr>\n",
       "    <tr>\n",
       "      <th>14</th>\n",
       "      <td>S01</td>\n",
       "      <td>E</td>\n",
       "      <td>3</td>\n",
       "      <td>339</td>\n",
       "      <td>19.9</td>\n",
       "      <td>0.1</td>\n",
       "    </tr>\n",
       "  </tbody>\n",
       "</table>\n",
       "</div>"
      ],
      "text/plain": [
       "   Populations Samples  Ramets  character_1  character_2  character_3\n",
       "0          S01       A       1          306         21.5          0.2\n",
       "1          S01       A       2          305         21.5          0.1\n",
       "2          S01       A       3          285         21.0          0.1\n",
       "3          S01       B       1          310         19.0          0.6\n",
       "4          S01       B       2          355         20.0          0.4\n",
       "5          S01       B       3          340         20.0          0.3\n",
       "6          S01       C       1          320         20.0          0.8\n",
       "7          S01       C       2          304         19.8          0.8\n",
       "8          S01       C       3          255         19.5          0.7\n",
       "9          S01       D       1          267         19.0          0.2\n",
       "10         S01       D       2          246         18.5          0.2\n",
       "11         S01       D       3          276         19.0          0.5\n",
       "12         S01       E       1          300         20.0          0.1\n",
       "13         S01       E       2          340         19.8          0.1\n",
       "14         S01       E       3          339         19.9          0.1"
      ]
     },
     "execution_count": 207,
     "metadata": {},
     "output_type": "execute_result"
    }
   ],
   "source": [
    "my_file = \"sorry_cant_share_the_data.xlsx\"\n",
    "df = pd.read_excel(my_file)\n",
    "df.head(15)"
   ]
  },
  {
   "cell_type": "markdown",
   "metadata": {},
   "source": [
    "## Sub-species classification  for individual characters\n",
    "\n",
    "In order to classify the ramets into sub-species, we use the currently accepted dichotomous keys, which are as follows:"
   ]
  },
  {
   "cell_type": "markdown",
   "metadata": {},
   "source": [
    "\n",
    "\n",
    "| Subspecies\t| Diagnostic Character 1 |\tDiagnostic Character 2\t| Diagnostic Character 3 |\n",
    "| --- | --- | --- |  --- |\n",
    "|subspecies 1\t|260-290 mm | 17-18.99 mm| \t0.2-0.3 mm\n",
    "|subspecies 2\t|300-319.99 mm\t|19.01 20.99 mm\t|0.1 mm\n",
    "|subspecies 3\t|320.01-350\tmm |21.01-24 mm\t|0.5-2 mm\n",
    "|subspecies 4\t|160-210 mm |13-15 mm\t|absent\n",
    "\n",
    "\n",
    "\n",
    "We noticed some ambiguity in the definition above, which don't allow to clearly classify some samples\n",
    "\n",
    "| Subspecies\t| Diagnostic Character 1 |\tDiagnostic Character 2\t| Diagnostic Character 3 |\n",
    "| --- | --- | --- |  --- |\n",
    "|unclassifiable\t| 320 mm\t    |19 mm, 21 mm\t| -\n",
    "\t\t\t\n"
   ]
  },
  {
   "cell_type": "markdown",
   "metadata": {},
   "source": [
    "Let's categorise our data using the definition above and let's see what results look like.\n",
    "For the sake of this analysis, we will only use data at a ramets level - further analysis has been done at a sample and population level."
   ]
  },
  {
   "cell_type": "code",
   "execution_count": 151,
   "metadata": {},
   "outputs": [],
   "source": [
    "def initiliase_classif(df, character_string, my_range, classification_value):\n",
    "    \n",
    "    my_condition = df[character_string].between(my_range[0], my_range[1])\n",
    "    df[\"classification_\" + character_string].loc[my_condition] = classification_value\n",
    "\n",
    "    return df"
   ]
  },
  {
   "cell_type": "code",
   "execution_count": 152,
   "metadata": {},
   "outputs": [
    {
     "name": "stderr",
     "output_type": "stream",
     "text": [
      "C:\\Users\\Utente\\Anaconda3\\lib\\site-packages\\pandas\\core\\indexing.py:190: SettingWithCopyWarning: \n",
      "A value is trying to be set on a copy of a slice from a DataFrame\n",
      "\n",
      "See the caveats in the documentation: http://pandas.pydata.org/pandas-docs/stable/indexing.html#indexing-view-versus-copy\n",
      "  self._setitem_with_indexer(indexer, value)\n"
     ]
    },
    {
     "data": {
      "text/html": [
       "<div>\n",
       "<style scoped>\n",
       "    .dataframe tbody tr th:only-of-type {\n",
       "        vertical-align: middle;\n",
       "    }\n",
       "\n",
       "    .dataframe tbody tr th {\n",
       "        vertical-align: top;\n",
       "    }\n",
       "\n",
       "    .dataframe thead th {\n",
       "        text-align: right;\n",
       "    }\n",
       "</style>\n",
       "<table border=\"1\" class=\"dataframe\">\n",
       "  <thead>\n",
       "    <tr style=\"text-align: right;\">\n",
       "      <th></th>\n",
       "      <th>Populations</th>\n",
       "      <th>Samples</th>\n",
       "      <th>Ramets</th>\n",
       "      <th>character_1</th>\n",
       "      <th>character_2</th>\n",
       "      <th>character_3</th>\n",
       "      <th>classification_character_1</th>\n",
       "      <th>classification_character_2</th>\n",
       "      <th>classification_character_3</th>\n",
       "    </tr>\n",
       "  </thead>\n",
       "  <tbody>\n",
       "    <tr>\n",
       "      <th>0</th>\n",
       "      <td>S01</td>\n",
       "      <td>A</td>\n",
       "      <td>1</td>\n",
       "      <td>306</td>\n",
       "      <td>21.5</td>\n",
       "      <td>0.2</td>\n",
       "      <td>sub_2</td>\n",
       "      <td>sub_3</td>\n",
       "      <td>sub_1</td>\n",
       "    </tr>\n",
       "    <tr>\n",
       "      <th>1</th>\n",
       "      <td>S01</td>\n",
       "      <td>A</td>\n",
       "      <td>2</td>\n",
       "      <td>305</td>\n",
       "      <td>21.5</td>\n",
       "      <td>0.1</td>\n",
       "      <td>sub_2</td>\n",
       "      <td>sub_3</td>\n",
       "      <td>sub_2</td>\n",
       "    </tr>\n",
       "    <tr>\n",
       "      <th>2</th>\n",
       "      <td>S01</td>\n",
       "      <td>A</td>\n",
       "      <td>3</td>\n",
       "      <td>285</td>\n",
       "      <td>21.0</td>\n",
       "      <td>0.1</td>\n",
       "      <td>sub_1</td>\n",
       "      <td>na</td>\n",
       "      <td>sub_2</td>\n",
       "    </tr>\n",
       "    <tr>\n",
       "      <th>3</th>\n",
       "      <td>S01</td>\n",
       "      <td>B</td>\n",
       "      <td>1</td>\n",
       "      <td>310</td>\n",
       "      <td>19.0</td>\n",
       "      <td>0.6</td>\n",
       "      <td>sub_2</td>\n",
       "      <td>na</td>\n",
       "      <td>sub_3</td>\n",
       "    </tr>\n",
       "    <tr>\n",
       "      <th>4</th>\n",
       "      <td>S01</td>\n",
       "      <td>B</td>\n",
       "      <td>2</td>\n",
       "      <td>355</td>\n",
       "      <td>20.0</td>\n",
       "      <td>0.4</td>\n",
       "      <td>na</td>\n",
       "      <td>sub_2</td>\n",
       "      <td>na</td>\n",
       "    </tr>\n",
       "  </tbody>\n",
       "</table>\n",
       "</div>"
      ],
      "text/plain": [
       "  Populations Samples  Ramets  character_1  character_2  character_3  \\\n",
       "0         S01       A       1          306         21.5          0.2   \n",
       "1         S01       A       2          305         21.5          0.1   \n",
       "2         S01       A       3          285         21.0          0.1   \n",
       "3         S01       B       1          310         19.0          0.6   \n",
       "4         S01       B       2          355         20.0          0.4   \n",
       "\n",
       "  classification_character_1 classification_character_2  \\\n",
       "0                      sub_2                      sub_3   \n",
       "1                      sub_2                      sub_3   \n",
       "2                      sub_1                         na   \n",
       "3                      sub_2                         na   \n",
       "4                         na                      sub_2   \n",
       "\n",
       "  classification_character_3  \n",
       "0                      sub_1  \n",
       "1                      sub_2  \n",
       "2                      sub_2  \n",
       "3                      sub_3  \n",
       "4                         na  "
      ]
     },
     "execution_count": 152,
     "metadata": {},
     "output_type": "execute_result"
    }
   ],
   "source": [
    "df[\"classification_character_1\"] = \"na\"\n",
    "df[\"classification_character_2\"] = \"na\"\n",
    "df[\"classification_character_3\"] = \"na\"\n",
    "\n",
    "df = initiliase_classif(df, \"character_1\", [260,290], \"sub_1\")\n",
    "df = initiliase_classif(df, \"character_1\", [300,319.99], \"sub_2\")\n",
    "df = initiliase_classif(df, \"character_1\", [320.01,350], \"sub_3\")\n",
    "df = initiliase_classif(df, \"character_1\", [160,210], \"sub_4\")\n",
    "\n",
    "df = initiliase_classif(df, \"character_2\", [17,18.99], \"sub_1\")\n",
    "df = initiliase_classif(df, \"character_2\", [19.01,20.99], \"sub_2\")\n",
    "df = initiliase_classif(df, \"character_2\", [21.01,24], \"sub_3\")\n",
    "df = initiliase_classif(df, \"character_1\", [13,15], \"sub_4\")\n",
    "\n",
    "df = initiliase_classif(df, \"character_3\", [0.2,0.3], \"sub_1\")\n",
    "df = initiliase_classif(df, \"character_3\", [0.1,0.1], \"sub_2\")\n",
    "df = initiliase_classif(df, \"character_3\", [0.5,2], \"sub_3\")\n",
    "df = initiliase_classif(df, \"character_3\", [0,0], \"sub_4\")\n",
    "df.head()"
   ]
  },
  {
   "cell_type": "markdown",
   "metadata": {},
   "source": [
    "Let's look at the distribution of the measurements different characters"
   ]
  },
  {
   "cell_type": "code",
   "execution_count": 209,
   "metadata": {},
   "outputs": [
    {
     "data": {
      "image/png": "[encoded data removed]",
      "text/plain": [
       "<Figure size 432x288 with 1 Axes>"
      ]
     },
     "metadata": {
      "needs_background": "light"
     },
     "output_type": "display_data"
    },
    {
     "data": {
      "image/png": "[encoded data removed]",
      "text/plain": [
       "<Figure size 432x288 with 1 Axes>"
      ]
     },
     "metadata": {
      "needs_background": "light"
     },
     "output_type": "display_data"
    },
    {
     "data": {
      "image/png": "[encoded data removed]",
      "text/plain": [
       "<Figure size 432x288 with 1 Axes>"
      ]
     },
     "metadata": {
      "needs_background": "light"
     },
     "output_type": "display_data"
    }
   ],
   "source": [
    "for col in character_cols:\n",
    "    plt.figure()\n",
    "    df[col].plot.hist(weights = list(np.ones_like(df.index) / len(df.index)))\n",
    "    plt.title(\"Distribution of measurements for \" + col)\n",
    "    plt.xlabel(\"Measurements (mm)\")"
   ]
  },
  {
   "cell_type": "markdown",
   "metadata": {},
   "source": [
    "Let's see how each measurement for each character would be classified"
   ]
  },
  {
   "cell_type": "code",
   "execution_count": 202,
   "metadata": {},
   "outputs": [
    {
     "data": {
      "text/plain": [
       "(array([0, 1, 2]), <a list of 3 Text xticklabel objects>)"
      ]
     },
     "execution_count": 202,
     "metadata": {},
     "output_type": "execute_result"
    },
    {
     "data": {
      "image/png": "[encoded data removed]",
      "text/plain": [
       "<Figure size 432x288 with 1 Axes>"
      ]
     },
     "metadata": {
      "needs_background": "light"
     },
     "output_type": "display_data"
    }
   ],
   "source": [
    "my_count_df =  pd.DataFrame(pd.value_counts(df[\"classification_character_1\"]))\n",
    "my_count_df[\"classification_character_2\"]  =  pd.DataFrame(pd.value_counts(df[\"classification_character_2\"]))\n",
    "my_count_df[\"classification_character_3\"]  =  pd.DataFrame(pd.value_counts(df[\"classification_character_3\"]))\n",
    "my_count_df.transpose().plot.bar()\n",
    "legend = plt.legend(title=\"Sub-species classification\", fontsize='small', fancybox=True, bbox_to_anchor=(1.01, 1), loc='upper left')\n",
    "plt.title(\"Attribution of characters into subspecies\")\n",
    "plt.xticks(rotation=70)"
   ]
  },
  {
   "cell_type": "markdown",
   "metadata": {},
   "source": [
    "Especially for character 1 and character 2, we have a significant amount of ramets which we can't uniquely classify."
   ]
  },
  {
   "cell_type": "markdown",
   "metadata": {},
   "source": [
    "## Classification of ramets"
   ]
  },
  {
   "cell_type": "markdown",
   "metadata": {},
   "source": [
    "On ramet basis for ramet, how often do the 3 characters agree and therefore it is possible to attribute the ramet to a precise subspecies?"
   ]
  },
  {
   "cell_type": "code",
   "execution_count": 195,
   "metadata": {},
   "outputs": [
    {
     "data": {
      "text/html": [
       "<div>\n",
       "<style scoped>\n",
       "    .dataframe tbody tr th:only-of-type {\n",
       "        vertical-align: middle;\n",
       "    }\n",
       "\n",
       "    .dataframe tbody tr th {\n",
       "        vertical-align: top;\n",
       "    }\n",
       "\n",
       "    .dataframe thead th {\n",
       "        text-align: right;\n",
       "    }\n",
       "</style>\n",
       "<table border=\"1\" class=\"dataframe\">\n",
       "  <thead>\n",
       "    <tr style=\"text-align: right;\">\n",
       "      <th></th>\n",
       "      <th>classification_character_1</th>\n",
       "      <th>classification_character_2</th>\n",
       "      <th>classification_character_3</th>\n",
       "      <th>n_unique_values</th>\n",
       "      <th>classification_output</th>\n",
       "    </tr>\n",
       "  </thead>\n",
       "  <tbody>\n",
       "    <tr>\n",
       "      <th>0</th>\n",
       "      <td>sub_2</td>\n",
       "      <td>sub_3</td>\n",
       "      <td>sub_1</td>\n",
       "      <td>3</td>\n",
       "      <td>all characters disagree</td>\n",
       "    </tr>\n",
       "    <tr>\n",
       "      <th>1</th>\n",
       "      <td>sub_2</td>\n",
       "      <td>sub_3</td>\n",
       "      <td>sub_2</td>\n",
       "      <td>2</td>\n",
       "      <td>two characters agree</td>\n",
       "    </tr>\n",
       "    <tr>\n",
       "      <th>2</th>\n",
       "      <td>sub_1</td>\n",
       "      <td>na_2</td>\n",
       "      <td>sub_2</td>\n",
       "      <td>3</td>\n",
       "      <td>all characters disagree</td>\n",
       "    </tr>\n",
       "    <tr>\n",
       "      <th>3</th>\n",
       "      <td>sub_2</td>\n",
       "      <td>na_2</td>\n",
       "      <td>sub_3</td>\n",
       "      <td>3</td>\n",
       "      <td>all characters disagree</td>\n",
       "    </tr>\n",
       "    <tr>\n",
       "      <th>4</th>\n",
       "      <td>na_1</td>\n",
       "      <td>sub_2</td>\n",
       "      <td>na_3</td>\n",
       "      <td>3</td>\n",
       "      <td>all characters disagree</td>\n",
       "    </tr>\n",
       "  </tbody>\n",
       "</table>\n",
       "</div>"
      ],
      "text/plain": [
       "  classification_character_1 classification_character_2  \\\n",
       "0                      sub_2                      sub_3   \n",
       "1                      sub_2                      sub_3   \n",
       "2                      sub_1                       na_2   \n",
       "3                      sub_2                       na_2   \n",
       "4                       na_1                      sub_2   \n",
       "\n",
       "  classification_character_3  n_unique_values    classification_output  \n",
       "0                      sub_1                3  all characters disagree  \n",
       "1                      sub_2                2     two characters agree  \n",
       "2                      sub_2                3  all characters disagree  \n",
       "3                      sub_3                3  all characters disagree  \n",
       "4                       na_3                3  all characters disagree  "
      ]
     },
     "execution_count": 195,
     "metadata": {},
     "output_type": "execute_result"
    }
   ],
   "source": [
    "my_classifications = df[classific_cols].copy()\n",
    "my_classifications[\"classification_character_1\"].replace(to_replace = \"na\", value =\"na_1\", inplace = True)\n",
    "my_classifications[\"classification_character_2\"].replace(to_replace = \"na\", value =\"na_2\", inplace = True)\n",
    "my_classifications[\"classification_character_3\"].replace(to_replace = \"na\", value =\"na_3\", inplace = True)\n",
    "my_classifications[\"n_unique_values\"] = my_classifications.apply(pd.Series.nunique, axis=1)\n",
    "\n",
    "my_classifications[\"classification_output\"] = my_classifications[\"n_unique_values\"]\n",
    "\n",
    "my_classifications[\"classification_output\"].replace(to_replace = 1, value =\"classification agreed\", inplace = True)\n",
    "my_classifications[\"classification_output\"].replace(to_replace = 2, value =\"two characters agree\", inplace = True)\n",
    "my_classifications[\"classification_output\"].replace(to_replace = 3, value =\"all characters disagree\", inplace = True)\n",
    "\n",
    "my_classifications.head()"
   ]
  },
  {
   "cell_type": "code",
   "execution_count": 200,
   "metadata": {},
   "outputs": [
    {
     "data": {
      "text/plain": [
       "Text(0.5, 1.0, '% of ramets that we can classify')"
      ]
     },
     "execution_count": 200,
     "metadata": {},
     "output_type": "execute_result"
    },
    {
     "data": {
      "image/png": "[encoded data removed]",
      "text/plain": [
       "<Figure size 432x288 with 1 Axes>"
      ]
     },
     "metadata": {
      "needs_background": "light"
     },
     "output_type": "display_data"
    }
   ],
   "source": [
    "my_counts = pd.value_counts(my_classifications[\"classification_output\"])\n",
    "normalised_counts = 100*my_counts/my_counts.sum()\n",
    "normalised_counts.plot.bar()\n",
    "plt.xticks(rotation=40)\n",
    "plt.ylabel(\"% of samples\")\n",
    "plt.title(\"% of ramets that we can classify\")"
   ]
  },
  {
   "cell_type": "markdown",
   "metadata": {},
   "source": [
    "Interestingly, only about 10% of the ramets can be classified using the suggested classification method."
   ]
  }
 ],
 "metadata": {
  "kernelspec": {
   "display_name": "Python 3",
   "language": "python",
   "name": "python3"
  },
  "language_info": {
   "codemirror_mode": {
    "name": "ipython",
    "version": 3
   },
   "file_extension": ".py",
   "mimetype": "text/x-python",
   "name": "python",
   "nbconvert_exporter": "python",
   "pygments_lexer": "ipython3",
   "version": "3.7.3"
  }
 },
 "nbformat": 4,
 "nbformat_minor": 2
}
